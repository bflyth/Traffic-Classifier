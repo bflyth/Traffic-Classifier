{
 "cells": [
  {
   "cell_type": "markdown",
   "metadata": {},
   "source": [
    "# Self-Driving Car Engineer Nanodegree\n",
    "\n",
    "## Deep Learning\n",
    "\n",
    "## Project: Build a Traffic Sign Recognition Classifier\n",
    "\n",
    "In this notebook, a template is provided for you to implement your functionality in stages, which is required to successfully complete this project. If additional code is required that cannot be included in the notebook, be sure that the Python code is successfully imported and included in your submission if necessary. \n",
    "\n",
    "> **Note**: Once you have completed all of the code implementations, you need to finalize your work by exporting the iPython Notebook as an HTML document. Before exporting the notebook to html, all of the code cells need to have been run so that reviewers can see the final implementation and output. You can then export the notebook by using the menu above and navigating to  \\n\",\n",
    "    \"**File -> Download as -> HTML (.html)**. Include the finished document along with this notebook as your submission. \n",
    "\n",
    "In addition to implementing code, there is a writeup to complete. The writeup should be completed in a separate file, which can be either a markdown file or a pdf document. There is a [write up template](https://github.com/udacity/CarND-Traffic-Sign-Classifier-Project/blob/master/writeup_template.md) that can be used to guide the writing process. Completing the code template and writeup template will cover all of the [rubric points](https://review.udacity.com/#!/rubrics/481/view) for this project.\n",
    "\n",
    "The [rubric](https://review.udacity.com/#!/rubrics/481/view) contains \"Stand Out Suggestions\" for enhancing the project beyond the minimum requirements. The stand out suggestions are optional. If you decide to pursue the \"stand out suggestions\", you can include the code in this Ipython notebook and also discuss the results in the writeup file.\n",
    "\n",
    "\n",
    ">**Note:** Code and Markdown cells can be executed using the **Shift + Enter** keyboard shortcut. In addition, Markdown cells can be edited by typically double-clicking the cell to enter edit mode."
   ]
  },
  {
   "cell_type": "markdown",
   "metadata": {},
   "source": [
    "---\n",
    "## Step 0: Load The Data"
   ]
  },
  {
   "cell_type": "code",
   "execution_count": 1,
   "metadata": {},
   "outputs": [],
   "source": [
    "# Load pickled data\n",
    "import pickle\n",
    "\n",
    "# TODO: Fill this in based on where you saved the training and testing data\n",
    "\n",
    "training_file = 'Data Sets/traffic-signs-data/train.p'\n",
    "validation_file= 'Data Sets/traffic-signs-data/valid.p'\n",
    "testing_file = 'Data Sets/traffic-signs-data/test.p'\n",
    "\n",
    "with open(training_file, mode='rb') as f:\n",
    "    train = pickle.load(f)\n",
    "with open(validation_file, mode='rb') as f:\n",
    "    valid = pickle.load(f)\n",
    "with open(testing_file, mode='rb') as f:\n",
    "    test = pickle.load(f)\n",
    "    \n",
    "X_train, y_train = train['features'], train['labels']\n",
    "X_valid, y_valid = valid['features'], valid['labels']\n",
    "X_test, y_test = test['features'], test['labels']"
   ]
  },
  {
   "cell_type": "markdown",
   "metadata": {},
   "source": [
    "---\n",
    "\n",
    "## Step 1: Dataset Summary & Exploration\n",
    "\n",
    "The pickled data is a dictionary with 4 key/value pairs:\n",
    "\n",
    "- `'features'` is a 4D array containing raw pixel data of the traffic sign images, (num examples, width, height, channels).\n",
    "- `'labels'` is a 1D array containing the label/class id of the traffic sign. The file `signnames.csv` contains id -> name mappings for each id.\n",
    "- `'sizes'` is a list containing tuples, (width, height) representing the original width and height the image.\n",
    "- `'coords'` is a list containing tuples, (x1, y1, x2, y2) representing coordinates of a bounding box around the sign in the image. **THESE COORDINATES ASSUME THE ORIGINAL IMAGE. THE PICKLED DATA CONTAINS RESIZED VERSIONS (32 by 32) OF THESE IMAGES**\n",
    "\n",
    "Complete the basic data summary below. Use python, numpy and/or pandas methods to calculate the data summary rather than hard coding the results. For example, the [pandas shape method](http://pandas.pydata.org/pandas-docs/stable/generated/pandas.DataFrame.shape.html) might be useful for calculating some of the summary results. "
   ]
  },
  {
   "cell_type": "markdown",
   "metadata": {},
   "source": [
    "### Provide a Basic Summary of the Data Set Using Python, Numpy and/or Pandas"
   ]
  },
  {
   "cell_type": "code",
   "execution_count": 2,
   "metadata": {},
   "outputs": [
    {
     "name": "stdout",
     "output_type": "stream",
     "text": [
      "Number of training examples = 34799\n",
      "Number of testing examples = 12630\n",
      "Image data shape = (32, 32, 3)\n",
      "Number of classes = 43\n"
     ]
    }
   ],
   "source": [
    "### Replace each question mark with the appropriate value. \n",
    "### Use python, pandas or numpy methods rather than hard coding the results\n",
    "\n",
    "# TODO: Number of training examples\n",
    "n_train = len(y_train)\n",
    "\n",
    "# TODO: Number of validation examples\n",
    "n_validation = len(y_valid)\n",
    "\n",
    "# TODO: Number of testing examples.\n",
    "n_test = len(y_test)\n",
    "\n",
    "# TODO: What's the shape of an traffic sign image?\n",
    "image_shape = X_train[0].shape\n",
    "\n",
    "# TODO: How many unique classes/labels there are in the dataset.\n",
    "n_classes = len(set(y_train))\n",
    "\n",
    "print(\"Number of training examples =\", n_train)\n",
    "print(\"Number of testing examples =\", n_test)\n",
    "print(\"Image data shape =\", image_shape)\n",
    "print(\"Number of classes =\", n_classes)"
   ]
  },
  {
   "cell_type": "markdown",
   "metadata": {},
   "source": [
    "### Include an exploratory visualization of the dataset"
   ]
  },
  {
   "cell_type": "markdown",
   "metadata": {},
   "source": [
    "Visualize the German Traffic Signs Dataset using the pickled file(s). This is open ended, suggestions include: plotting traffic sign images, plotting the count of each sign, etc. \n",
    "\n",
    "The [Matplotlib](http://matplotlib.org/) [examples](http://matplotlib.org/examples/index.html) and [gallery](http://matplotlib.org/gallery.html) pages are a great resource for doing visualizations in Python.\n",
    "\n",
    "**NOTE:** It's recommended you start with something simple first. If you wish to do more, come back to it after you've completed the rest of the sections. It can be interesting to look at the distribution of classes in the training, validation and test set. Is the distribution the same? Are there more examples of some classes than others?"
   ]
  },
  {
   "cell_type": "code",
   "execution_count": 3,
   "metadata": {},
   "outputs": [],
   "source": [
    "%matplotlib inline\n",
    "### Data exploration visualization code goes here.\n",
    "### Feel free to use as many code cells as needed.\n",
    "import matplotlib.pyplot as plt\n",
    "# Visualizations will be shown in the notebook."
   ]
  },
  {
   "cell_type": "code",
   "execution_count": 4,
   "metadata": {},
   "outputs": [
    {
     "data": {
      "image/png": "[encoded data removed]",
      "text/plain": [
       "<matplotlib.figure.Figure at 0x1975361ad30>"
      ]
     },
     "metadata": {},
     "output_type": "display_data"
    }
   ],
   "source": [
    "n, bins, patches = plt.hist([y_train], bins=n_classes)\n",
    "plt.legend(['y_train']);"
   ]
  },
  {
   "cell_type": "code",
   "execution_count": 5,
   "metadata": {},
   "outputs": [
    {
     "data": {
      "image/png": "[encoded data removed]",
      "text/plain": [
       "<matplotlib.figure.Figure at 0x197537bb400>"
      ]
     },
     "metadata": {},
     "output_type": "display_data"
    }
   ],
   "source": [
    "import cv2\n",
    "import numpy as np\n",
    "\n",
    "fig = plt.figure(figsize=(16, 16))\n",
    "samples = np.random.choice(len(X_train), 3)\n",
    "\n",
    "for i, k in enumerate(samples):\n",
    "    img_rgb = X_train[k]\n",
    "    img_grayscale = cv2.cvtColor(img_rgb, cv2.COLOR_BGR2GRAY)\n",
    "    img_normalized = cv2.equalizeHist(img_grayscale)\n",
    "    a = fig.add_subplot(len(samples), 3, 3 + 3*i)\n",
    "    plt.imshow(img_normalized, cmap='gray')"
   ]
  },
  {
   "cell_type": "markdown",
   "metadata": {},
   "source": [
    "----\n",
    "\n",
    "## Step 2: Design and Test a Model Architecture\n",
    "\n",
    "Design and implement a deep learning model that learns to recognize traffic signs. Train and test your model on the [German Traffic Sign Dataset](http://benchmark.ini.rub.de/?section=gtsrb&subsection=dataset).\n",
    "\n",
    "The LeNet-5 implementation shown in the [classroom](https://classroom.udacity.com/nanodegrees/nd013/parts/fbf77062-5703-404e-b60c-95b78b2f3f9e/modules/6df7ae49-c61c-4bb2-a23e-6527e69209ec/lessons/601ae704-1035-4287-8b11-e2c2716217ad/concepts/d4aca031-508f-4e0b-b493-e7b706120f81) at the end of the CNN lesson is a solid starting point. You'll have to change the number of classes and possibly the preprocessing, but aside from that it's plug and play! \n",
    "\n",
    "With the LeNet-5 solution from the lecture, you should expect a validation set accuracy of about 0.89. To meet specifications, the validation set accuracy will need to be at least 0.93. It is possible to get an even higher accuracy, but 0.93 is the minimum for a successful project submission. \n",
    "\n",
    "There are various aspects to consider when thinking about this problem:\n",
    "\n",
    "- Neural network architecture (is the network over or underfitting?)\n",
    "- Play around preprocessing techniques (normalization, rgb to grayscale, etc)\n",
    "- Number of examples per label (some have more than others).\n",
    "- Generate fake data.\n",
    "\n",
    "Here is an example of a [published baseline model on this problem](http://yann.lecun.com/exdb/publis/pdf/sermanet-ijcnn-11.pdf). It's not required to be familiar with the approach used in the paper but, it's good practice to try to read papers like these."
   ]
  },
  {
   "cell_type": "markdown",
   "metadata": {},
   "source": [
    "### Pre-process the Data Set (normalization, grayscale, etc.)"
   ]
  },
  {
   "cell_type": "markdown",
   "metadata": {},
   "source": [
    "Minimally, the image data should be normalized so that the data has mean zero and equal variance. For image data, `(pixel - 128)/ 128` is a quick way to approximately normalize the data and can be used in this project. \n",
    "\n",
    "Other pre-processing steps are optional. You can try different techniques to see if it improves performance. \n",
    "\n",
    "Use the code cell (or multiple code cells, if necessary) to implement the first step of your project."
   ]
  },
  {
   "cell_type": "code",
   "execution_count": 6,
   "metadata": {},
   "outputs": [],
   "source": [
    "### Preprocess the data here. It is required to normalize the data. Other preprocessing steps could include \n",
    "### converting to grayscale, etc.\n",
    "### Feel free to use as many code cells as needed.\n",
    "IMG_MEAN = None\n",
    "IMG_STD = None\n",
    "\n",
    "def normalize_histogram(img_rgb):\n",
    "    img_grayscale = cv2.cvtColor(img_rgb, cv2.COLOR_BGR2GRAY)\n",
    "    return cv2.equalizeHist(img_grayscale).reshape(32, 32, 1)\n",
    "\n",
    "X_train_norm = np.array(list(map(normalize_histogram, X_train)))\n",
    "X_test_norm = np.array(list(map(normalize_histogram, X_test)))\n",
    "X_valid_norm = np.array(list(map(normalize_histogram, X_valid)))\n",
    "\n",
    "X_stacked_norm = np.vstack([X_train_norm, X_test_norm, X_valid_norm])\n",
    "\n",
    "IMG_MEAN = np.mean(X_stacked_norm, axis=0)\n",
    "IMG_STD = np.std(X_stacked_norm, axis=0)\n",
    "\n",
    "def preprocess(X):\n",
    "    X_norm = np.array(list(map(normalize_histogram, X)))\n",
    "    return (X_norm - IMG_MEAN) / IMG_STD\n",
    "\n",
    "def equalize_data(data): \n",
    "    print(\"Equalizing...\")\n",
    "    for i in range(len(data)):\n",
    "        data[i] = normalize_histogram(np.array(data[i]))\n",
    "    return data\n",
    "\n",
    "X_train_preproc = (X_train_norm - IMG_MEAN) / IMG_STD\n",
    "X_test_preproc = (X_test_norm - IMG_MEAN) / IMG_STD\n",
    "X_valid_preproc = (X_valid_norm - IMG_MEAN) / IMG_STD\n"
   ]
  },
  {
   "cell_type": "markdown",
   "metadata": {},
   "source": [
    "### Model Architecture"
   ]
  },
  {
   "cell_type": "code",
   "execution_count": 7,
   "metadata": {},
   "outputs": [],
   "source": [
    "### Define your architecture here.\n",
    "### Feel free to use as many code cells as needed.\n",
    "import tensorflow as tf\n",
    "from tensorflow.contrib.layers import flatten\n",
    "from tensorflow.contrib.layers import l1_regularizer\n",
    "from tensorflow.contrib.layers import apply_regularization\n",
    "\n",
    "def network(x, dropout, beta, mu = 0, sigma = 0.1):\n",
    "    \n",
    "    #Layer 1: Convolutional. Input = 32x32x1. Output = 28x28x6.\n",
    "    conv1_Weight = tf.Variable(tf.truncated_normal(shape=(5, 5, 1, 6), mean = mu, stddev = sigma))\n",
    "    conv1_bias = tf.Variable(tf.zeros(6))\n",
    "    conv1   = tf.nn.conv2d(x, conv1_Weight, strides=[1, 1, 1, 1], padding='VALID') + conv1_bias\n",
    "\n",
    "    #Activation.\n",
    "    conv1 = tf.nn.relu(conv1)\n",
    "    conv1 = tf.nn.dropout(conv1, dropout)\n",
    "\n",
    "    #Pooling. Input = 28x28x6. Output = 14x14x6.\n",
    "    conv1 = tf.nn.max_pool(conv1, ksize=[1, 2, 2, 1], strides=[1, 2, 2, 1], padding='VALID')\n",
    "\n",
    "    #Layer 2: Convolutional. Input = 14x14x6 Output = 10x10x16.\n",
    "    conv2_Weight = tf.Variable(tf.truncated_normal(shape=(5, 5, 6, 16), mean = mu, stddev = sigma))\n",
    "    conv2_bias = tf.Variable(tf.zeros(16))\n",
    "    conv2   = tf.nn.conv2d(conv1, conv2_Weight, strides=[1, 1, 1, 1], padding='VALID') + conv2_bias\n",
    "    \n",
    "    #Activation.\n",
    "    conv2 = tf.nn.relu(conv2)\n",
    "    conv2 = tf.nn.dropout(conv2, dropout)\n",
    "\n",
    "    #Pooling. Input = 10x10x16. Output = 5x5x16.\n",
    "    conv2 = tf.nn.max_pool(conv2, ksize=[1, 2, 2, 1], strides=[1, 2, 2, 1], padding='VALID')\n",
    "\n",
    "    #Flatten. Input = 5x5x16. Output = 400.\n",
    "    flat   = flatten(conv2)\n",
    "    \n",
    "    #Layer 3: Fully Connected. Input = 400. Output = 120.\n",
    "    fc1_Weight = tf.Variable(tf.truncated_normal(shape=(400, 120), mean = mu, stddev = sigma))\n",
    "    fc1_bias = tf.Variable(tf.zeros(120))\n",
    "    fc1   = tf.matmul(flat, fc1_Weight) + fc1_bias\n",
    "    \n",
    "    #Activation.\n",
    "    fc1    = tf.nn.relu(fc1)\n",
    "    fc1    = tf.nn.dropout(fc1, dropout)\n",
    "\n",
    "    #Layer 4: Fully Connected. Input = 120. Output = 84.\n",
    "    fc2_Weight  = tf.Variable(tf.truncated_normal(shape=(120, 84), mean = mu, stddev = sigma))\n",
    "    fc2_bias  = tf.Variable(tf.zeros(84))\n",
    "    fc2    = tf.matmul(fc1, fc2_Weight) + fc2_bias\n",
    "    \n",
    "    #Activation.\n",
    "    fc2    = tf.nn.relu(fc2)\n",
    "    fc2    = tf.nn.dropout(fc2, dropout)\n",
    "\n",
    "    #Layer 5: Fully Connected. Input = 84. Output = 43.\n",
    "    fc3_Weight  = tf.Variable(tf.truncated_normal(shape=(84, n_classes), mean = mu, stddev = sigma))\n",
    "    fc3_bias  = tf.Variable(tf.zeros(n_classes))\n",
    "    logits = tf.matmul(fc2, fc3_Weight) + fc3_bias\n",
    "    \n",
    "    regularizer = l1_regularizer(scale=beta, scope=None)\n",
    "    penalty = apply_regularization(regularizer, [fc1_Weight, fc2_Weight, fc3_Weight, conv1_Weight, conv2_Weight])\n",
    "    \n",
    "    return logits, penalty\n"
   ]
  },
  {
   "cell_type": "markdown",
   "metadata": {},
   "source": [
    "Parameters and Variables"
   ]
  },
  {
   "cell_type": "code",
   "execution_count": 8,
   "metadata": {},
   "outputs": [],
   "source": [
    "x = tf.placeholder(tf.float32, (None, 32, 32, 1))\n",
    "y = tf.placeholder(tf.int32, (None))\n",
    "one_hot_y = tf.one_hot(y, n_classes)\n",
    "\n",
    "RATE = 8e-4\n",
    "BETA = 3e-4\n",
    "\n",
    "keep_prob = tf.placeholder(tf.float32)\n",
    "\n",
    "logits, penalty = network(x, keep_prob, BETA)\n",
    "cross_entropy = tf.nn.softmax_cross_entropy_with_logits(labels=one_hot_y, logits=logits)\n",
    "loss = tf.reduce_mean(cross_entropy) + penalty\n",
    "optimizer = tf.train.AdamOptimizer(learning_rate = RATE)\n",
    "training_operation = optimizer.minimize(loss)"
   ]
  },
  {
   "cell_type": "markdown",
   "metadata": {},
   "source": [
    "Define evaluation and accuracy functions"
   ]
  },
  {
   "cell_type": "code",
   "execution_count": 9,
   "metadata": {},
   "outputs": [],
   "source": [
    "from sklearn.metrics import classification_report\n",
    "\n",
    "correct_prediction = tf.equal(tf.argmax(logits, 1), tf.argmax(one_hot_y, 1))\n",
    "accuracy_operation = tf.reduce_mean(tf.cast(correct_prediction, tf.float32))\n",
    "saver = tf.train.Saver()\n",
    "\n",
    "def classified_report(X_data, y_data):\n",
    "    prediction = []\n",
    "    num_examples = len(X_data)\n",
    "    sess = tf.get_default_session()\n",
    "    for offset in range(0, num_examples, BATCH_SIZE):\n",
    "        batch_x, batch_y = X_data[offset:offset+BATCH_SIZE], y_data[offset:offset+BATCH_SIZE]\n",
    "        res = sess.run(tf.argmax(logits, 1), \n",
    "                                 feed_dict={x: batch_x, y: batch_y, keep_prob: 1.})\n",
    "        prediction.extend(res)\n",
    "    return classification_report(y_data, prediction)\n",
    "\n",
    "def evaluator(X_data, y_data):\n",
    "    num_examples = len(X_data)\n",
    "    total_accuracy = 0\n",
    "    sess = tf.get_default_session()\n",
    "    for offset in range(0, num_examples, BATCH_SIZE):\n",
    "        batch_x, batch_y = X_data[offset:offset+BATCH_SIZE], y_data[offset:offset+BATCH_SIZE]\n",
    "        accuracy = sess.run(accuracy_operation, feed_dict={x: batch_x, y: batch_y, keep_prob: 1.})\n",
    "        total_accuracy += (accuracy * len(batch_x))\n",
    "    return total_accuracy / num_examples"
   ]
  },
  {
   "cell_type": "markdown",
   "metadata": {},
   "source": [
    "### Train, Validate and Test the Model"
   ]
  },
  {
   "cell_type": "markdown",
   "metadata": {},
   "source": [
    "A validation set can be used to assess how well the model is performing. A low accuracy on the training and validation\n",
    "sets imply underfitting. A high accuracy on the training set but low accuracy on the validation set implies overfitting."
   ]
  },
  {
   "cell_type": "code",
   "execution_count": 10,
   "metadata": {
    "scrolled": false
   },
   "outputs": [
    {
     "name": "stdout",
     "output_type": "stream",
     "text": [
      "Training model, please wait . . .\n",
      "EPOCH 1 TRAINING 0.682 TESTING 0.631\n",
      "EPOCH 2 TRAINING 0.829 TESTING 0.767\n",
      "EPOCH 3 TRAINING 0.888 TESTING 0.824\n",
      "EPOCH 4 TRAINING 0.917 TESTING 0.859\n",
      "EPOCH 5 TRAINING 0.931 TESTING 0.871\n",
      "EPOCH 6 TRAINING 0.942 TESTING 0.883\n",
      "EPOCH 7 TRAINING 0.952 TESTING 0.888\n",
      "EPOCH 8 TRAINING 0.957 TESTING 0.900\n",
      "EPOCH 9 TRAINING 0.961 TESTING 0.905\n",
      "EPOCH 10 TRAINING 0.964 TESTING 0.908\n",
      "EPOCH 11 TRAINING 0.967 TESTING 0.907\n",
      "EPOCH 12 TRAINING 0.967 TESTING 0.904\n",
      "EPOCH 13 TRAINING 0.972 TESTING 0.915\n",
      "EPOCH 14 TRAINING 0.973 TESTING 0.910\n",
      "EPOCH 15 TRAINING 0.974 TESTING 0.915\n",
      "EPOCH 16 TRAINING 0.974 TESTING 0.911\n",
      "EPOCH 17 TRAINING 0.976 TESTING 0.912\n",
      "EPOCH 18 TRAINING 0.973 TESTING 0.912\n",
      "EPOCH 19 TRAINING 0.982 TESTING 0.922\n",
      "EPOCH 20 TRAINING 0.981 TESTING 0.923\n",
      "EPOCH 21 TRAINING 0.982 TESTING 0.923\n",
      "EPOCH 22 TRAINING 0.983 TESTING 0.924\n",
      "EPOCH 23 TRAINING 0.980 TESTING 0.924\n",
      "EPOCH 24 TRAINING 0.983 TESTING 0.924\n",
      "EPOCH 25 TRAINING 0.984 TESTING 0.924\n",
      "EPOCH 26 TRAINING 0.982 TESTING 0.925\n",
      "EPOCH 27 TRAINING 0.983 TESTING 0.926\n",
      "EPOCH 28 TRAINING 0.985 TESTING 0.924\n",
      "EPOCH 29 TRAINING 0.986 TESTING 0.927\n",
      "EPOCH 30 TRAINING 0.985 TESTING 0.924\n",
      "EPOCH 31 TRAINING 0.983 TESTING 0.927\n",
      "EPOCH 32 TRAINING 0.984 TESTING 0.924\n",
      "EPOCH 33 TRAINING 0.984 TESTING 0.924\n",
      "EPOCH 34 TRAINING 0.978 TESTING 0.918\n",
      "EPOCH 35 TRAINING 0.986 TESTING 0.925\n",
      "EPOCH 36 TRAINING 0.984 TESTING 0.926\n",
      "EPOCH 37 TRAINING 0.985 TESTING 0.927\n",
      "EPOCH 38 TRAINING 0.983 TESTING 0.927\n",
      "EPOCH 39 TRAINING 0.984 TESTING 0.922\n",
      "EPOCH 40 TRAINING 0.986 TESTING 0.927\n",
      "EPOCH 41 TRAINING 0.984 TESTING 0.924\n",
      "EPOCH 42 TRAINING 0.985 TESTING 0.924\n",
      "EPOCH 43 TRAINING 0.984 TESTING 0.926\n",
      "EPOCH 44 TRAINING 0.980 TESTING 0.923\n",
      "EPOCH 45 TRAINING 0.984 TESTING 0.928\n",
      "EPOCH 46 TRAINING 0.983 TESTING 0.925\n",
      "EPOCH 47 TRAINING 0.985 TESTING 0.930\n",
      "EPOCH 48 TRAINING 0.987 TESTING 0.931\n",
      "EPOCH 49 TRAINING 0.984 TESTING 0.928\n",
      "EPOCH 50 TRAINING 0.985 TESTING 0.929\n",
      "EPOCH 51 TRAINING 0.986 TESTING 0.926\n",
      "EPOCH 52 TRAINING 0.984 TESTING 0.931\n",
      "EPOCH 53 TRAINING 0.986 TESTING 0.925\n",
      "EPOCH 54 TRAINING 0.987 TESTING 0.935\n",
      "EPOCH 55 TRAINING 0.986 TESTING 0.928\n",
      "EPOCH 56 TRAINING 0.985 TESTING 0.929\n",
      "EPOCH 57 TRAINING 0.985 TESTING 0.925\n",
      "EPOCH 58 TRAINING 0.984 TESTING 0.930\n",
      "EPOCH 59 TRAINING 0.985 TESTING 0.926\n",
      "EPOCH 60 TRAINING 0.988 TESTING 0.932\n",
      "EPOCH 61 TRAINING 0.983 TESTING 0.925\n",
      "EPOCH 62 TRAINING 0.988 TESTING 0.929\n",
      "EPOCH 63 TRAINING 0.985 TESTING 0.927\n",
      "EPOCH 64 TRAINING 0.989 TESTING 0.933\n",
      "EPOCH 65 TRAINING 0.981 TESTING 0.924\n",
      "EPOCH 66 TRAINING 0.987 TESTING 0.930\n",
      "EPOCH 67 TRAINING 0.982 TESTING 0.926\n",
      "EPOCH 68 TRAINING 0.986 TESTING 0.926\n",
      "EPOCH 69 TRAINING 0.987 TESTING 0.930\n",
      "EPOCH 70 TRAINING 0.987 TESTING 0.925\n",
      "EPOCH 71 TRAINING 0.983 TESTING 0.928\n",
      "EPOCH 72 TRAINING 0.985 TESTING 0.925\n",
      "EPOCH 73 TRAINING 0.989 TESTING 0.935\n",
      "EPOCH 74 TRAINING 0.988 TESTING 0.928\n",
      "EPOCH 75 TRAINING 0.983 TESTING 0.924\n",
      "EPOCH 76 TRAINING 0.983 TESTING 0.925\n",
      "EPOCH 77 TRAINING 0.987 TESTING 0.928\n",
      "EPOCH 78 TRAINING 0.983 TESTING 0.922\n",
      "EPOCH 79 TRAINING 0.984 TESTING 0.925\n",
      "EPOCH 80 TRAINING 0.981 TESTING 0.916\n",
      "EPOCH 81 TRAINING 0.989 TESTING 0.934\n",
      "EPOCH 82 TRAINING 0.979 TESTING 0.928\n",
      "EPOCH 83 TRAINING 0.985 TESTING 0.927\n",
      "EPOCH 84 TRAINING 0.986 TESTING 0.926\n",
      "EPOCH 85 TRAINING 0.987 TESTING 0.929\n",
      "EPOCH 86 TRAINING 0.988 TESTING 0.930\n",
      "EPOCH 87 TRAINING 0.986 TESTING 0.930\n",
      "EPOCH 88 TRAINING 0.983 TESTING 0.926\n",
      "EPOCH 89 TRAINING 0.987 TESTING 0.929\n",
      "EPOCH 90 TRAINING 0.986 TESTING 0.930\n",
      "EPOCH 91 TRAINING 0.985 TESTING 0.926\n",
      "EPOCH 92 TRAINING 0.986 TESTING 0.931\n",
      "EPOCH 93 TRAINING 0.986 TESTING 0.930\n",
      "EPOCH 94 TRAINING 0.988 TESTING 0.926\n",
      "EPOCH 95 TRAINING 0.987 TESTING 0.931\n",
      "EPOCH 96 TRAINING 0.985 TESTING 0.930\n",
      "EPOCH 97 TRAINING 0.990 TESTING 0.936\n",
      "EPOCH 98 TRAINING 0.983 TESTING 0.921\n",
      "EPOCH 99 TRAINING 0.987 TESTING 0.932\n",
      "EPOCH 100 TRAINING 0.985 TESTING 0.924\n",
      "EPOCH 101 TRAINING 0.986 TESTING 0.929\n",
      "EPOCH 102 TRAINING 0.973 TESTING 0.909\n",
      "EPOCH 103 TRAINING 0.987 TESTING 0.932\n",
      "EPOCH 104 TRAINING 0.989 TESTING 0.935\n",
      "EPOCH 105 TRAINING 0.987 TESTING 0.929\n",
      "EPOCH 106 TRAINING 0.988 TESTING 0.934\n",
      "EPOCH 107 TRAINING 0.988 TESTING 0.926\n",
      "EPOCH 108 TRAINING 0.988 TESTING 0.930\n",
      "EPOCH 109 TRAINING 0.987 TESTING 0.935\n",
      "EPOCH 110 TRAINING 0.985 TESTING 0.928\n",
      "EPOCH 111 TRAINING 0.988 TESTING 0.931\n",
      "EPOCH 112 TRAINING 0.984 TESTING 0.929\n",
      "EPOCH 113 TRAINING 0.987 TESTING 0.930\n",
      "EPOCH 114 TRAINING 0.987 TESTING 0.932\n",
      "EPOCH 115 TRAINING 0.982 TESTING 0.924\n",
      "EPOCH 116 TRAINING 0.982 TESTING 0.922\n",
      "EPOCH 117 TRAINING 0.985 TESTING 0.932\n",
      "EPOCH 118 TRAINING 0.987 TESTING 0.928\n",
      "EPOCH 119 TRAINING 0.987 TESTING 0.931\n",
      "EPOCH 120 TRAINING 0.987 TESTING 0.931\n",
      "EPOCH 121 TRAINING 0.983 TESTING 0.925\n",
      "EPOCH 122 TRAINING 0.984 TESTING 0.931\n",
      "EPOCH 123 TRAINING 0.985 TESTING 0.925\n",
      "EPOCH 124 TRAINING 0.989 TESTING 0.937\n",
      "EPOCH 125 TRAINING 0.983 TESTING 0.924\n",
      "EPOCH 126 TRAINING 0.986 TESTING 0.931\n",
      "EPOCH 127 TRAINING 0.984 TESTING 0.921\n",
      "EPOCH 128 TRAINING 0.983 TESTING 0.926\n",
      "EPOCH 129 TRAINING 0.980 TESTING 0.914\n",
      "EPOCH 130 TRAINING 0.985 TESTING 0.920\n",
      "EPOCH 131 TRAINING 0.985 TESTING 0.926\n",
      "EPOCH 132 TRAINING 0.988 TESTING 0.936\n",
      "EPOCH 133 TRAINING 0.985 TESTING 0.926\n",
      "EPOCH 134 TRAINING 0.980 TESTING 0.920\n",
      "EPOCH 135 TRAINING 0.985 TESTING 0.929\n",
      "EPOCH 136 TRAINING 0.988 TESTING 0.932\n",
      "EPOCH 137 TRAINING 0.985 TESTING 0.927\n",
      "EPOCH 138 TRAINING 0.986 TESTING 0.925\n",
      "EPOCH 139 TRAINING 0.980 TESTING 0.924\n",
      "EPOCH 140 TRAINING 0.989 TESTING 0.937\n",
      "EPOCH 141 TRAINING 0.981 TESTING 0.920\n",
      "EPOCH 142 TRAINING 0.980 TESTING 0.919\n",
      "EPOCH 143 TRAINING 0.983 TESTING 0.923\n",
      "EPOCH 144 TRAINING 0.986 TESTING 0.927\n",
      "EPOCH 145 TRAINING 0.984 TESTING 0.923\n",
      "EPOCH 146 TRAINING 0.984 TESTING 0.919\n",
      "EPOCH 147 TRAINING 0.981 TESTING 0.923\n",
      "EPOCH 148 TRAINING 0.983 TESTING 0.925\n",
      "EPOCH 149 TRAINING 0.987 TESTING 0.926\n",
      "EPOCH 150 TRAINING 0.989 TESTING 0.932\n",
      "Model saved\n",
      "Validation: 0.960\n",
      "Report:               precision    recall  f1-score   support\n",
      "\n",
      "          0       1.00      0.63      0.78        30\n",
      "          1       0.99      0.97      0.98       240\n",
      "          2       0.99      0.94      0.96       240\n",
      "          3       0.94      0.89      0.92       150\n",
      "          4       0.95      0.98      0.97       210\n",
      "          5       0.81      0.99      0.89       210\n",
      "          6       0.92      0.98      0.95        60\n",
      "          7       0.94      0.98      0.96       150\n",
      "          8       0.94      0.97      0.95       150\n",
      "          9       1.00      1.00      1.00       150\n",
      "         10       1.00      0.97      0.98       210\n",
      "         11       0.96      1.00      0.98       150\n",
      "         12       1.00      1.00      1.00       210\n",
      "         13       1.00      0.99      1.00       240\n",
      "         14       1.00      1.00      1.00        90\n",
      "         15       0.98      0.97      0.97        90\n",
      "         16       1.00      1.00      1.00        60\n",
      "         17       1.00      1.00      1.00       120\n",
      "         18       0.97      0.93      0.95       120\n",
      "         19       1.00      0.70      0.82        30\n",
      "         20       0.76      0.88      0.82        60\n",
      "         21       0.84      0.78      0.81        60\n",
      "         22       1.00      1.00      1.00        60\n",
      "         23       1.00      0.83      0.91        60\n",
      "         24       1.00      0.87      0.93        30\n",
      "         25       0.99      0.99      0.99       150\n",
      "         26       0.87      0.97      0.91        60\n",
      "         27       0.85      0.77      0.81        30\n",
      "         28       0.92      1.00      0.96        60\n",
      "         29       1.00      0.83      0.91        30\n",
      "         30       0.90      1.00      0.94        60\n",
      "         31       0.96      1.00      0.98        90\n",
      "         32       0.82      0.90      0.86        30\n",
      "         33       1.00      1.00      1.00        90\n",
      "         34       1.00      0.97      0.98        60\n",
      "         35       0.99      1.00      1.00       120\n",
      "         36       1.00      0.88      0.94        60\n",
      "         37       1.00      1.00      1.00        30\n",
      "         38       1.00      1.00      1.00       210\n",
      "         39       1.00      1.00      1.00        30\n",
      "         40       0.98      0.92      0.95        60\n",
      "         41       1.00      0.80      0.89        30\n",
      "         42       0.84      0.70      0.76        30\n",
      "\n",
      "avg / total       0.96      0.96      0.96      4410\n",
      "\n"
     ]
    },
    {
     "data": {
      "image/png": "[encoded data removed]",
      "text/plain": [
       "<matplotlib.figure.Figure at 0x197050302b0>"
      ]
     },
     "metadata": {},
     "output_type": "display_data"
    }
   ],
   "source": [
    "### Train your model here.\n",
    "### Calculate and report the accuracy on the training and validation set.\n",
    "### Once a final model architecture is selected, \n",
    "### the accuracy on the test set should be calculated and reported as well.\n",
    "### Feel free to use as many code cells as needed.\n",
    "from sklearn.utils import shuffle\n",
    "\n",
    "EPOCHS = 150\n",
    "BATCH_SIZE = 128\n",
    "DROPOUT = 0.65\n",
    "\n",
    "training_accuracy = []\n",
    "testing_accuracy = []\n",
    "\n",
    "with tf.Session(config=tf.ConfigProto(log_device_placement=True)) as sess:\n",
    "    sess.run(tf.global_variables_initializer())\n",
    "    num_examples = len(y_train)\n",
    "    \n",
    "    print(\"Training model, please wait . . .\")\n",
    "    for i in range(EPOCHS):\n",
    "        X_train_preproc, y_train = shuffle(X_train_preproc, y_train)\n",
    "        for offset in range(0, num_examples, BATCH_SIZE):\n",
    "            end = offset + BATCH_SIZE\n",
    "            batch_x, batch_y = X_train_preproc[offset:end], y_train[offset:end]\n",
    "            sess.run(training_operation, feed_dict={x: batch_x, \n",
    "                                                    y: batch_y, \n",
    "                                                    keep_prob: DROPOUT})\n",
    "            \n",
    "        training_accuracy.append(evaluator(X_train_preproc, y_train))\n",
    "        testing_accuracy.append(evaluator(X_test_preproc, y_test))\n",
    "        print(\"EPOCH {} TRAINING {:.3f} TESTING {:.3f}\".format(i + 1, training_accuracy[-1], testing_accuracy[-1]))\n",
    "        \n",
    "    saver.save(sess, './lenet')\n",
    "    print(\"Model saved\")\n",
    "    \n",
    "    validation_accuracy = evaluator(X_valid_preproc, y_valid)\n",
    "    print(\"Validation: {:.3f}\".format(validation_accuracy))\n",
    "    \n",
    "    report = classified_report(X_valid_preproc, y_valid)\n",
    "    print(\"Report: \", report)\n",
    "    \n",
    "    plt.plot(range(EPOCHS), training_accuracy, 'b-', \n",
    "             range(EPOCHS), testing_accuracy, 'r-',\n",
    "             range(EPOCHS), [0.93]*EPOCHS, 'k--')\n",
    "    \n",
    "    plt.legend([\"train\", \"test\", \"0.93\"])"
   ]
  },
  {
   "cell_type": "markdown",
   "metadata": {},
   "source": [
    "---\n",
    "\n",
    "## Step 3: Test a Model on New Images\n",
    "\n",
    "To give yourself more insight into how your model is working, download at least five pictures of German traffic signs from the web and use your model to predict the traffic sign type.\n",
    "\n",
    "You may find `signnames.csv` useful as it contains mappings from the class id (integer) to the actual sign name."
   ]
  },
  {
   "cell_type": "markdown",
   "metadata": {},
   "source": [
    "### Load and Output the Images"
   ]
  },
  {
   "cell_type": "code",
   "execution_count": 11,
   "metadata": {},
   "outputs": [
    {
     "name": "stdout",
     "output_type": "stream",
     "text": [
      "(32, 32, 3)\n",
      "(32, 32, 3)\n",
      "(32, 32, 3)\n",
      "(32, 32, 3)\n",
      "(32, 32, 3)\n"
     ]
    }
   ],
   "source": [
    "### Load the images and plot them here.\n",
    "### Feel free to use as many code cells as needed.\n",
    "### http://graphics.cs.msu.ru/ru/node/1266\n",
    "import matplotlib.image as mpimg\n",
    "\n",
    "stop_sign = mpimg.imread('Data Sets/traffic-signs-secondary/stop-sign.jpg')\n",
    "stop_sign = cv2.resize(stop_sign, (32, 32), interpolation = cv2.INTER_AREA)\n",
    "\n",
    "no_passing_sign = mpimg.imread('Data Sets/traffic-signs-secondary/no-passing-sign.jpg')\n",
    "no_passing_sign = cv2.resize(no_passing_sign, (32, 32), interpolation = cv2.INTER_AREA)\n",
    "\n",
    "speed30_sign = mpimg.imread('Data Sets/traffic-signs-secondary/speed30-sign.jpg')\n",
    "speed30_sign = cv2.resize(speed30_sign, (32, 32), interpolation = cv2.INTER_AREA) \n",
    "\n",
    "ROW_sign = mpimg.imread('Data Sets/traffic-signs-secondary/right-of-way.jpg')\n",
    "ROW_sign = cv2.resize(ROW_sign, (32, 32), interpolation = cv2.INTER_AREA)\n",
    "\n",
    "DNE_sign = mpimg.imread('Data Sets/traffic-signs-secondary/do-not-enter.jpg')\n",
    "DNE_sign = cv2.resize(DNE_sign, (32, 32), interpolation = cv2.INTER_AREA)\n",
    "\n",
    "print(stop_sign.shape)\n",
    "print(no_passing_sign.shape)\n",
    "print(speed30_sign.shape)\n",
    "print(ROW_sign.shape)\n",
    "print(DNE_sign.shape)"
   ]
  },
  {
   "cell_type": "code",
   "execution_count": 12,
   "metadata": {},
   "outputs": [],
   "source": [
    "test_images = np.array([stop_sign, no_passing_sign, speed30_sign, ROW_sign, DNE_sign])\n",
    "\n",
    "classes = np.array([14, 9, 1, 11, 17])\n",
    "\n",
    "num_images = 5"
   ]
  },
  {
   "cell_type": "code",
   "execution_count": 13,
   "metadata": {},
   "outputs": [],
   "source": [
    "#new image evaluator\n",
    "def evaluate_new(X_data, y_data):\n",
    "    num_examples = len(X_data)\n",
    "    sess = tf.get_default_session()\n",
    "    accuracy = sess.run(accuracy_operation, feed_dict={x: X_data, y: y_data, keep_prob:1})\n",
    "    return accuracy"
   ]
  },
  {
   "cell_type": "markdown",
   "metadata": {},
   "source": [
    "### Predict the Sign Type for Each Image"
   ]
  },
  {
   "cell_type": "code",
   "execution_count": 14,
   "metadata": {},
   "outputs": [
    {
     "name": "stdout",
     "output_type": "stream",
     "text": [
      "(32, 32, 1)\n"
     ]
    }
   ],
   "source": [
    "### Run the predictions here and use the model to output the prediction for each image.\n",
    "### Make sure to pre-process the images with the same pre-processing pipeline used earlier.\n",
    "### Feel free to use as many code cells as needed.\n",
    "new_stop = test_images[0]\n",
    "new_NP = test_images[1]\n",
    "new_speed30 = test_images[2]\n",
    "new_ROW = test_images[3]\n",
    "new_DNE = test_images[4]\n",
    "\n",
    "new_stop = cv2.cvtColor(new_stop, cv2.COLOR_BGR2GRAY)\n",
    "new_stop = cv2.equalizeHist(new_stop).reshape(32,32,1)\n",
    "\n",
    "new_NP = cv2.cvtColor(new_NP, cv2.COLOR_BGR2GRAY)\n",
    "new_NP = cv2.equalizeHist(new_NP).reshape(32,32,1)\n",
    "\n",
    "new_speed30 = cv2.cvtColor(new_speed30, cv2.COLOR_BGR2GRAY)\n",
    "new_speed30 = cv2.equalizeHist(new_speed30).reshape(32,32,1)\n",
    "\n",
    "new_ROW = cv2.cvtColor(new_ROW, cv2.COLOR_BGR2GRAY)\n",
    "new_ROW = cv2.equalizeHist(new_ROW).reshape(32,32,1)\n",
    "\n",
    "new_DNE = cv2.cvtColor(new_DNE, cv2.COLOR_BGR2GRAY)\n",
    "new_DNE = cv2.equalizeHist(new_DNE).reshape(32,32,1)\n",
    "\n",
    "new_images = np.array([new_stop, new_NP, new_speed30, new_ROW, new_DNE])\n",
    "print(new_images[0].shape)\n"
   ]
  },
  {
   "cell_type": "markdown",
   "metadata": {},
   "source": [
    "\n",
    "### Analyze Performance"
   ]
  },
  {
   "cell_type": "code",
   "execution_count": 15,
   "metadata": {},
   "outputs": [
    {
     "name": "stdout",
     "output_type": "stream",
     "text": [
      "Random Test Accuracy = 0.600\n"
     ]
    }
   ],
   "source": [
    "#analyzing performance for images obtained from internet\n",
    "with tf.Session() as sess: \n",
    "    saver.restore(sess, './lenet') \n",
    "    web_accuracy = evaluate_new(new_images, classes)\n",
    "    print(\"Random Test Accuracy = {:.3f}\".format(web_accuracy))"
   ]
  },
  {
   "cell_type": "markdown",
   "metadata": {},
   "source": [
    "### Output Top 5 Softmax Probabilities For Each Image Found on the Web"
   ]
  },
  {
   "cell_type": "markdown",
   "metadata": {},
   "source": [
    "For each of the new images, print out the model's softmax probabilities to show the **certainty** of the model's predictions (limit the output to the top 5 probabilities for each image). [`tf.nn.top_k`](https://www.tensorflow.org/versions/r0.12/api_docs/python/nn.html#top_k) could prove helpful here. \n",
    "\n",
    "The example below demonstrates how tf.nn.top_k can be used to find the top k predictions for each image.\n",
    "\n",
    "`tf.nn.top_k` will return the values and indices (class ids) of the top k predictions. So if k=3, for each sign, it'll return the 3 largest probabilities (out of a possible 43) and the correspoding class ids.\n",
    "\n",
    "Take this numpy array as an example. The values in the array represent predictions. The array contains softmax probabilities for five candidate images with six possible classes. `tk.nn.top_k` is used to choose the three classes with the highest probability:\n",
    "\n",
    "```\n",
    "# (5, 6) array\n",
    "a = np.array([[ 0.24879643,  0.07032244,  0.12641572,  0.34763842,  0.07893497,\n",
    "         0.12789202],\n",
    "       [ 0.28086119,  0.27569815,  0.08594638,  0.0178669 ,  0.18063401,\n",
    "         0.15899337],\n",
    "       [ 0.26076848,  0.23664738,  0.08020603,  0.07001922,  0.1134371 ,\n",
    "         0.23892179],\n",
    "       [ 0.11943333,  0.29198961,  0.02605103,  0.26234032,  0.1351348 ,\n",
    "         0.16505091],\n",
    "       [ 0.09561176,  0.34396535,  0.0643941 ,  0.16240774,  0.24206137,\n",
    "         0.09155967]])\n",
    "```\n",
    "\n",
    "Running it through `sess.run(tf.nn.top_k(tf.constant(a), k=3))` produces:\n",
    "\n",
    "```\n",
    "TopKV2(values=array([[ 0.34763842,  0.24879643,  0.12789202],\n",
    "       [ 0.28086119,  0.27569815,  0.18063401],\n",
    "       [ 0.26076848,  0.23892179,  0.23664738],\n",
    "       [ 0.29198961,  0.26234032,  0.16505091],\n",
    "       [ 0.34396535,  0.24206137,  0.16240774]]), indices=array([[3, 0, 5],\n",
    "       [0, 1, 4],\n",
    "       [0, 5, 1],\n",
    "       [1, 3, 5],\n",
    "       [1, 4, 3]], dtype=int32))\n",
    "```\n",
    "\n",
    "Looking just at the first row we get `[ 0.34763842,  0.24879643,  0.12789202]`, you can confirm these are the 3 largest probabilities in `a`. You'll also notice `[3, 0, 5]` are the corresponding indices."
   ]
  },
  {
   "cell_type": "code",
   "execution_count": 16,
   "metadata": {},
   "outputs": [
    {
     "name": "stdout",
     "output_type": "stream",
     "text": [
      "TopKV2(values=array([[  1.00000000e+00,   0.00000000e+00,   0.00000000e+00,\n",
      "          0.00000000e+00,   0.00000000e+00],\n",
      "       [  1.00000000e+00,   0.00000000e+00,   0.00000000e+00,\n",
      "          0.00000000e+00,   0.00000000e+00],\n",
      "       [  1.00000000e+00,   7.07624848e-10,   1.88525085e-13,\n",
      "          1.97141558e-17,   1.51753620e-29],\n",
      "       [  1.00000000e+00,   0.00000000e+00,   0.00000000e+00,\n",
      "          0.00000000e+00,   0.00000000e+00],\n",
      "       [  1.00000000e+00,   0.00000000e+00,   0.00000000e+00,\n",
      "          0.00000000e+00,   0.00000000e+00]], dtype=float32), indices=array([[18,  0,  1,  2,  3],\n",
      "       [ 9,  0,  1,  2,  3],\n",
      "       [16,  0, 10, 37, 40],\n",
      "       [11,  0,  1,  2,  3],\n",
      "       [17,  0,  1,  2,  3]]))\n"
     ]
    }
   ],
   "source": [
    "### Print out the top five softmax probabilities for the predictions on the German traffic sign images found on the web. \n",
    "### Feel free to use as many code cells as needed.\n",
    "prob_num = tf.placeholder(tf.int32)\n",
    "top_probablities = tf.nn.top_k(tf.nn.softmax(logits),prob_num)\n",
    "with tf.Session() as sess: \n",
    "    saver.restore(sess, './lenet') \n",
    "    probablities = sess.run(top_probablities, feed_dict={x:new_images, y:classes, keep_prob:1, prob_num:5})\n",
    "    print(probablities)"
   ]
  },
  {
   "cell_type": "markdown",
   "metadata": {},
   "source": [
    "### Project Writeup\n",
    "\n",
    "Once you have completed the code implementation, document your results in a project writeup using this [template](https://github.com/udacity/CarND-Traffic-Sign-Classifier-Project/blob/master/writeup_template.md) as a guide. The writeup can be in a markdown or pdf file. "
   ]
  },
  {
   "cell_type": "markdown",
   "metadata": {},
   "source": [
    "> **Note**: Once you have completed all of the code implementations and successfully answered each question above, you may finalize your work by exporting the iPython Notebook as an HTML document. You can do this by using the menu above and navigating to  \\n\",\n",
    "    \"**File -> Download as -> HTML (.html)**. Include the finished document along with this notebook as your submission."
   ]
  },
  {
   "cell_type": "markdown",
   "metadata": {},
   "source": [
    "---\n",
    "\n",
    "## Step 4 (Optional): Visualize the Neural Network's State with Test Images\n",
    "\n",
    " This Section is not required to complete but acts as an additional excersise for understaning the output of a neural network's weights. While neural networks can be a great learning device they are often referred to as a black box. We can understand what the weights of a neural network look like better by plotting their feature maps. After successfully training your neural network you can see what it's feature maps look like by plotting the output of the network's weight layers in response to a test stimuli image. From these plotted feature maps, it's possible to see what characteristics of an image the network finds interesting. For a sign, maybe the inner network feature maps react with high activation to the sign's boundary outline or to the contrast in the sign's painted symbol.\n",
    "\n",
    " Provided for you below is the function code that allows you to get the visualization output of any tensorflow weight layer you want. The inputs to the function should be a stimuli image, one used during training or a new one you provided, and then the tensorflow variable name that represents the layer's state during the training process, for instance if you wanted to see what the [LeNet lab's](https://classroom.udacity.com/nanodegrees/nd013/parts/fbf77062-5703-404e-b60c-95b78b2f3f9e/modules/6df7ae49-c61c-4bb2-a23e-6527e69209ec/lessons/601ae704-1035-4287-8b11-e2c2716217ad/concepts/d4aca031-508f-4e0b-b493-e7b706120f81) feature maps looked like for it's second convolutional layer you could enter conv2 as the tf_activation variable.\n",
    "\n",
    "For an example of what feature map outputs look like, check out NVIDIA's results in their paper [End-to-End Deep Learning for Self-Driving Cars](https://devblogs.nvidia.com/parallelforall/deep-learning-self-driving-cars/) in the section Visualization of internal CNN State. NVIDIA was able to show that their network's inner weights had high activations to road boundary lines by comparing feature maps from an image with a clear path to one without. Try experimenting with a similar test to show that your trained network's weights are looking for interesting features, whether it's looking at differences in feature maps from images with or without a sign, or even what feature maps look like in a trained network vs a completely untrained one on the same sign image.\n",
    "\n",
    "<figure>\n",
    " <img src=\"visualize_cnn.png\" width=\"380\" alt=\"Combined Image\" />\n",
    " <figcaption>\n",
    " <p></p> \n",
    " <p style=\"text-align: center;\"> Your output should look something like this (above)</p> \n",
    " </figcaption>\n",
    "</figure>\n",
    " <p></p> \n"
   ]
  },
  {
   "cell_type": "code",
   "execution_count": 17,
   "metadata": {
    "scrolled": false
   },
   "outputs": [],
   "source": [
    "### Visualize your network's feature maps here.\n",
    "### Feel free to use as many code cells as needed.\n",
    "\n",
    "# image_input: the test image being fed into the network to produce the feature maps\n",
    "# tf_activation: should be a tf variable name used during your training procedure that represents the calculated state of a specific weight layer\n",
    "# activation_min/max: can be used to view the activation contrast in more detail, by default matplot sets min and max to the actual min and max values of the output\n",
    "# plt_num: used to plot out multiple different weight feature map sets on the same block, just extend the plt number for each new feature map entry\n",
    "\n",
    "def outputFeatureMap(image_input, tf_activation, activation_min=-1, activation_max=-1 ,plt_num=1):\n",
    "    # Here make sure to preprocess your image_input in a way your network expects\n",
    "    # with size, normalization, ect if needed\n",
    "    # image_input =\n",
    "    # Note: x should be the same name as your network's tensorflow data placeholder variable\n",
    "    # If you get an error tf_activation is not defined it may be having trouble accessing the variable from inside a function\n",
    "    activation = tf_activation.eval(session=sess,feed_dict={x : image_input})\n",
    "    featuremaps = activation.shape[3]\n",
    "    plt.figure(plt_num, figsize=(15,15))\n",
    "    for featuremap in range(featuremaps):\n",
    "        plt.subplot(6,8, featuremap+1) # sets the number of feature maps to show on each row and column\n",
    "        plt.title('FeatureMap ' + str(featuremap)) # displays the feature map number\n",
    "        if activation_min != -1 & activation_max != -1:\n",
    "            plt.imshow(activation[0,:,:, featuremap], interpolation=\"nearest\", vmin =activation_min, vmax=activation_max, cmap=\"gray\")\n",
    "        elif activation_max != -1:\n",
    "            plt.imshow(activation[0,:,:, featuremap], interpolation=\"nearest\", vmax=activation_max, cmap=\"gray\")\n",
    "        elif activation_min !=-1:\n",
    "            plt.imshow(activation[0,:,:, featuremap], interpolation=\"nearest\", vmin=activation_min, cmap=\"gray\")\n",
    "        else:\n",
    "            plt.imshow(activation[0,:,:, featuremap], interpolation=\"nearest\", cmap=\"gray\")"
   ]
  }
 ],
 "metadata": {
  "anaconda-cloud": {},
  "kernelspec": {
   "display_name": "Python 3",
   "language": "python",
   "name": "python3"
  },
  "language_info": {
   "codemirror_mode": {
    "name": "ipython",
    "version": 3
   },
   "file_extension": ".py",
   "mimetype": "text/x-python",
   "name": "python",
   "nbconvert_exporter": "python",
   "pygments_lexer": "ipython3",
   "version": "3.5.2"
  },
  "widgets": {
   "state": {},
   "version": "1.1.2"
  }
 },
 "nbformat": 4,
 "nbformat_minor": 1
}
